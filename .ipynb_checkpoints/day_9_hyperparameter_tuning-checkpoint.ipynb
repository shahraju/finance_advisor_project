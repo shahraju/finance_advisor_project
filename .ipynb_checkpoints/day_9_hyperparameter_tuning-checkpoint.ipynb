{
 "cells": [
  {
   "cell_type": "markdown",
   "id": "987ce853-ff6f-47cc-b245-918deee08b54",
   "metadata": {},
   "source": [
    "# Day 9: Hyperparameter Tuning\n",
    "\n",
    "So far, we trained multiple models and compared their performance.  \n",
    "In this step, I will try to improve model accuracy by tuning hyperparameters.\n",
    "\n",
    "I will use **GridSearchCV** from scikit-learn to find the best parameters for:\n",
    "\n",
    "- Random Forest  \n",
    "- Gradient Boosting  \n",
    "\n",
    "This process uses cross-validation to test different parameter combinations and selects the best set based on performance (R² score).\n"
   ]
  },
  {
   "cell_type": "code",
   "execution_count": 2,
   "id": "8ca0de12-ecfe-486e-8be6-e5114d4456f0",
   "metadata": {},
   "outputs": [
    {
     "name": "stdout",
     "output_type": "stream",
     "text": [
      "Best RF Params: {'max_depth': 5, 'min_samples_split': 2, 'n_estimators': 100}\n",
      "Best RF CV Score: 0.9822250411581845\n",
      "Best GB Params: {'learning_rate': 0.1, 'max_depth': 3, 'n_estimators': 100}\n",
      "Best GB CV Score: 0.98127315055905\n"
     ]
    }
   ],
   "source": [
    "import pandas as pd\n",
    "import numpy as np\n",
    "from sklearn.model_selection import train_test_split, GridSearchCV\n",
    "from sklearn.ensemble import RandomForestRegressor, GradientBoostingRegressor\n",
    "from sklearn.metrics import mean_squared_error, r2_score\n",
    "\n",
    "# Load dataset again (or reuse if already loaded)\n",
    "data = pd.read_csv(\"synthetic_stock_data.csv\")\n",
    "\n",
    "# Features and target\n",
    "X = data[[\"open\", \"high\", \"low\", \"volume\"]]\n",
    "y = data[\"close\"]\n",
    "\n",
    "# Train-test split\n",
    "X_train, X_test, y_train, y_test = train_test_split(X, y, test_size=0.2, random_state=42)\n",
    "\n",
    "# ---------------------------\n",
    "# 🔹 Random Forest Tuning\n",
    "# ---------------------------\n",
    "rf_params = {\n",
    "    \"n_estimators\": [50, 100, 200],\n",
    "    \"max_depth\": [None, 5, 10],\n",
    "    \"min_samples_split\": [2, 5, 10]\n",
    "}\n",
    "\n",
    "rf_grid = GridSearchCV(RandomForestRegressor(random_state=42),\n",
    "                       rf_params,\n",
    "                       cv=3,\n",
    "                       scoring=\"r2\",\n",
    "                       n_jobs=-1)\n",
    "rf_grid.fit(X_train, y_train)\n",
    "\n",
    "print(\"Best RF Params:\", rf_grid.best_params_)\n",
    "print(\"Best RF CV Score:\", rf_grid.best_score_)\n",
    "\n",
    "# ---------------------------\n",
    "# 🔹 Gradient Boosting Tuning\n",
    "# ---------------------------\n",
    "gb_params = {\n",
    "    \"n_estimators\": [50, 100, 200],\n",
    "    \"learning_rate\": [0.01, 0.05, 0.1],\n",
    "    \"max_depth\": [3, 5, 7]\n",
    "}\n",
    "\n",
    "gb_grid = GridSearchCV(GradientBoostingRegressor(random_state=42),\n",
    "                       gb_params,\n",
    "                       cv=3,\n",
    "                       scoring=\"r2\",\n",
    "                       n_jobs=-1)\n",
    "gb_grid.fit(X_train, y_train)\n",
    "\n",
    "print(\"Best GB Params:\", gb_grid.best_params_)\n",
    "print(\"Best GB CV Score:\", gb_grid.best_score_)\n"
   ]
  },
  {
   "cell_type": "markdown",
   "id": "07463c9f-8838-4a68-ac8f-6fc11f7ac355",
   "metadata": {},
   "source": [
    "### ✅ Day 9 Summary — Hyperparameter Tuning  \n",
    "\n",
    "- We used **GridSearchCV** to tune the hyperparameters of **Random Forest** and **Gradient Boosting**.  \n",
    "\n",
    "- **Best Results:**  \n",
    "  - **Random Forest** → Best Params: `max_depth=5, min_samples_split=2, n_estimators=100` → CV R² = **0.982**  \n",
    "  - **Gradient Boosting** → Best Params: `learning_rate=0.1, max_depth=3, n_estimators=100` → CV R² = **0.981**  \n",
    "\n",
    "👉 Both models performed very well after tuning, with **Random Forest slightly ahead**.  \n",
    "\n",
    "📌 Next step (Day 10): Test these tuned models on the holdout **test set**.  \n"
   ]
  },
  {
   "cell_type": "code",
   "execution_count": null,
   "id": "9149c194-7d11-4acd-8b27-03d3732c5ee1",
   "metadata": {},
   "outputs": [],
   "source": []
  }
 ],
 "metadata": {
  "kernelspec": {
   "display_name": "Python 3 (ipykernel)",
   "language": "python",
   "name": "python3"
  },
  "language_info": {
   "codemirror_mode": {
    "name": "ipython",
    "version": 3
   },
   "file_extension": ".py",
   "mimetype": "text/x-python",
   "name": "python",
   "nbconvert_exporter": "python",
   "pygments_lexer": "ipython3",
   "version": "3.9.23"
  }
 },
 "nbformat": 4,
 "nbformat_minor": 5
}
