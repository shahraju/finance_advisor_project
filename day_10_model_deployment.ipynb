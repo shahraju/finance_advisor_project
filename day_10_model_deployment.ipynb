{
 "cells": [
  {
   "cell_type": "markdown",
   "id": "e35a3019-1348-4d27-863d-9504d1148015",
   "metadata": {},
   "source": [
    "# Day 10: Model Deployment\n",
    "\n",
    "### 🔹 Introduction\n",
    "Today, we focus on **model deployment basics**.  \n",
    "\n",
    "We will:  \n",
    "1. Save our **best tuned Gradient Boosting model**.  \n",
    "2. Load it back to confirm it works.  \n",
    "3. Test predictions to verify the saved model behaves correctly.  \n",
    "\n"
   ]
  },
  {
   "cell_type": "code",
   "execution_count": 1,
   "id": "f0b4cd5c-9d2e-43a5-8a91-480bb9ec3f3d",
   "metadata": {},
   "outputs": [
    {
     "name": "stdout",
     "output_type": "stream",
     "text": [
      "✅ Best Gradient Boosting Model saved as best_gb_model.pkl\n",
      "✅ Loaded Model Test Performance:\n",
      "MSE: 0.21\n",
      "R²: 0.98\n"
     ]
    }
   ],
   "source": [
    "import joblib\n",
    "from sklearn.metrics import mean_squared_error, r2_score\n",
    "\n",
    "# Load train-test splits (from earlier saved files)\n",
    "import joblib\n",
    "X_train = joblib.load(\"X_train.pkl\")\n",
    "X_test = joblib.load(\"X_test.pkl\")\n",
    "y_train = joblib.load(\"y_train.pkl\")\n",
    "y_test = joblib.load(\"y_test.pkl\")\n",
    "\n",
    "# Best Gradient Boosting model from Day 9\n",
    "from sklearn.ensemble import GradientBoostingRegressor\n",
    "best_gb_model = GradientBoostingRegressor(\n",
    "    learning_rate=0.05, max_depth=2, n_estimators=200, random_state=42\n",
    ")\n",
    "best_gb_model.fit(X_train, y_train)\n",
    "\n",
    "# Save model\n",
    "joblib.dump(best_gb_model, \"best_gb_model.pkl\")\n",
    "print(\"✅ Best Gradient Boosting Model saved as best_gb_model.pkl\")\n",
    "\n",
    "# Load model back\n",
    "loaded_model = joblib.load(\"best_gb_model.pkl\")\n",
    "\n",
    "# Evaluate loaded model\n",
    "loaded_preds = loaded_model.predict(X_test)\n",
    "mse = mean_squared_error(y_test, loaded_preds)\n",
    "r2 = r2_score(y_test, loaded_preds)\n",
    "\n",
    "print(\"✅ Loaded Model Test Performance:\")\n",
    "print(\"MSE:\", round(mse, 2))\n",
    "print(\"R²:\", round(r2, 2))\n"
   ]
  },
  {
   "cell_type": "markdown",
   "id": "89c8b2cd-14ef-4bdc-a52e-acc5cf200017",
   "metadata": {},
   "source": [
    "### 🔹 Conclusion  \n",
    "\n",
    "- We successfully **saved the best tuned Gradient Boosting model** as `best_gb_model.pkl`.  \n",
    "- Reloading the model gave consistent results:  \n",
    "  - **MSE: 0.21**  \n",
    "  - **R²: 0.98**  \n",
    "- This confirms our model can be stored and reused for future predictions without retraining.  \n",
    "- Next steps could include integrating this model into a simple API or web app for real-world deployment. 🚀  \n"
   ]
  },
  {
   "cell_type": "code",
   "execution_count": null,
   "id": "f67288a3-2ca4-4098-b867-527524511ba0",
   "metadata": {},
   "outputs": [],
   "source": []
  }
 ],
 "metadata": {
  "kernelspec": {
   "display_name": "Python 3 (ipykernel)",
   "language": "python",
   "name": "python3"
  },
  "language_info": {
   "codemirror_mode": {
    "name": "ipython",
    "version": 3
   },
   "file_extension": ".py",
   "mimetype": "text/x-python",
   "name": "python",
   "nbconvert_exporter": "python",
   "pygments_lexer": "ipython3",
   "version": "3.9.23"
  }
 },
 "nbformat": 4,
 "nbformat_minor": 5
}
